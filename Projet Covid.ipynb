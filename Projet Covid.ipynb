{
 "cells": [
  {
   "cell_type": "code",
   "execution_count": null,
   "metadata": {},
   "outputs": [],
   "source": [
    "import warnings\n",
    "warnings.filterwarnings('ignore')"
   ]
  },
  {
   "cell_type": "code",
   "execution_count": null,
   "metadata": {},
   "outputs": [],
   "source": [
    "import numpy as np\n",
    "import matplotlib.pyplot as plt\n",
    "import pandas as pd\n",
    "import seaborn as sns"
   ]
  },
  {
   "cell_type": "code",
   "execution_count": null,
   "metadata": {},
   "outputs": [],
   "source": [
    "data = pd.read_excel('dataset.xlsx')"
   ]
  },
  {
   "cell_type": "code",
   "execution_count": null,
   "metadata": {},
   "outputs": [],
   "source": [
    "pd.set_option('display.max_row', 111)\n",
    "pd.set_option('display.max_column', 111)"
   ]
  },
  {
   "cell_type": "code",
   "execution_count": null,
   "metadata": {},
   "outputs": [],
   "source": [
    "data.head()"
   ]
  },
  {
   "cell_type": "markdown",
   "metadata": {},
   "source": [
    "# 1. Exploratory Data Analysis\n",
    "\n",
    "## Objectif :\n",
    "- Comprendre du mieux possible nos données (un petit pas en avant vaut mieux qu'un grand pas en arriere)\n",
    "- Développer une premiere stratégie de modélisation \n",
    "\n",
    "## Checklist de base\n",
    "#### Analyse de Forme :\n",
    "- **variable target** : SARS-Cov-2 exam result\n",
    "- **lignes et colonnes** : 5644, 111\n",
    "- **types de variables** : qualitatives : 37, quantitatives : 74\n",
    "- **Analyse des valeurs manquantes** :\n",
    "    - beaucoup de NaN (moitié des variables > 90% de NaN)\n",
    "    - 2 groupes de données 76% -> Test viral, 89% -> taux sanguins\n",
    "   \n",
    "\n",
    "#### Analyse de Fond :\n",
    "- **Visualisation de la target** :\n",
    "    - 10 % de positifs (558 / 5000)\n",
    "    \n",
    "\n",
    "- **Signification des variables** :\n",
    "    - variables continues standardisées, skewed(asymétriques), test sanguin\n",
    "    - age quantile : difficile d'interpréter ce graphique, clairement ces données ont été traitées, on pourrait penser 0-5, mais cela pourrait aussi être une transformation mathématique. On ne peut pas savoir car la personne quii a mit ce dataset ne le précise nul part. Mais cela n'est pas très important.       \n",
    "    - variable qualitative : binaire(0, 1), viral, Rhinovirus qui semble très élevée          \n",
    "\n",
    "\n",
    "- **Relation Variables / Target** :\n",
    "    - target / blood : les taux de Monocytes, Platelets, Leukocytes semblent liés au covid 19 -> hypothèse à tester\n",
    "    - target /age : les indivus de faible age sont très peu contaminés ? -> attention on ne connait pas l'âge et on sait pas de quand date le dataset (s'il s'agit des enfants on sait que les enfants sont touchés autant que les adultes). En revanche cette variable pourra être intéressante pour la comparer avec les résultats de test sanguins\n",
    "    - target / viral : les doubles maladies sont tres rares. Rhinovirus/Enterovirus positif - covid-19 négatif ? -> hypothese a tester ? mais il est possible que la région est subie une épidémie de ce virus. De plus on peut tres bien avoir 2 virus en meme temps. Tout ca n'a aucun lien avec le covid 19.\n",
    "\n",
    "- **Conclusions initiales** :\n",
    "    - Beaucoup de données manquantes (au mieux on garde 20 % du dataset)\n",
    "    - 2 groupes de données intéressantes (viral, sanguin)\n",
    "    - Presque pas de variable \"discriminante\" pour distinguer les cas positifs/négatifs, ce qui nous permet de dire qu'il n'est pas vraiment approprié de vouloir prédire si un individu est atteint du Covid-19 en se basant sur ces simples tests sanguins.\n",
    "    Mais c'est pas grave, il faut quand même poursuivre l'analyse pour essayer de voir ce qu'on peut apprendre.\n",
    "    - On a pu identifier des variables intéressantes qui sont susceptibles de jouer un role non négligeable \n",
    "\n",
    "\n",
    "    \n",
    "    \n",
    "    \n",
    "### Analyse plus détaillée\n",
    "\n",
    "- **Relation Variables / Variables** :\n",
    "    - blood_data / blood_data : certaines variables sont très corrélées : + 0.9 (a surveiller plus tard)\n",
    "    - blood_data / age : tres faible corrélation entre age et taux sanguins\n",
    "    - viral / viral :influenza rapid test donne de mauvais résultat, il faudra peut-être la laisser tomber\n",
    "    - relation_maladie / blood_data : les taux sanguins entre malades et covid-19 sont différents \n",
    "    - relation hospitilisation / est malade :\n",
    "    - relation hospitilisation / blood : intéressant dans le cas où on voudrait prédire dans quelle service une patient devrait aller\n",
    "\n",
    "\n",
    "\n",
    "\n",
    "- **NaN analyse** : \n",
    "\n",
    "### hypotheses nulle (H0): \n",
    "    - Les individus atteints du covid-10 ont des taux de Leukocytes, Monocytes, Platelets significativement différents\n",
    "    - Les individus atteints d'une quelconque maladie ont des taux significativement différents\n",
    "\n",
    "\n",
    "\n",
    "    "
   ]
  },
  {
   "cell_type": "markdown",
   "metadata": {},
   "source": [
    "### Analyse de la forme des données"
   ]
  },
  {
   "cell_type": "code",
   "execution_count": null,
   "metadata": {},
   "outputs": [],
   "source": [
    "df = data.copy()"
   ]
  },
  {
   "cell_type": "code",
   "execution_count": null,
   "metadata": {},
   "outputs": [],
   "source": [
    "df.shape"
   ]
  },
  {
   "cell_type": "code",
   "execution_count": null,
   "metadata": {},
   "outputs": [],
   "source": [
    "df.dtypes.value_counts()"
   ]
  },
  {
   "cell_type": "code",
   "execution_count": null,
   "metadata": {},
   "outputs": [],
   "source": [
    "plt.figure(figsize=(20,10))\n",
    "sns.heatmap(df.isna(), cbar=False)"
   ]
  },
  {
   "cell_type": "code",
   "execution_count": null,
   "metadata": {},
   "outputs": [],
   "source": [
    "(df.isna().sum()/df.shape[0]).sort_values(ascending=True)\n"
   ]
  },
  {
   "cell_type": "markdown",
   "metadata": {},
   "source": [
    "### Analyse du fond\n",
    "\n",
    "### 1. Visulation initiale - Elimination des colonnes inutiles"
   ]
  },
  {
   "cell_type": "code",
   "execution_count": null,
   "metadata": {},
   "outputs": [],
   "source": [
    "# deleted_columns = df.loc[:, df.isna().sum()/df.shape[0] > 0.9]\n",
    "# df.drop(deleted_columns, axis=1, inplace=True)\n",
    "# df.shape"
   ]
  },
  {
   "cell_type": "code",
   "execution_count": null,
   "metadata": {},
   "outputs": [],
   "source": [
    "df = df[df.columns[df.isna().sum()/df.shape[0] < 0.9]]\n",
    "df\n"
   ]
  },
  {
   "cell_type": "code",
   "execution_count": null,
   "metadata": {},
   "outputs": [],
   "source": [
    "plt.figure(figsize=(20,10))\n",
    "sns.heatmap(df.isna(), cbar=False)"
   ]
  },
  {
   "cell_type": "code",
   "execution_count": null,
   "metadata": {},
   "outputs": [],
   "source": [
    "df.drop(['Patient ID'], axis=1, inplace=True)"
   ]
  },
  {
   "cell_type": "code",
   "execution_count": null,
   "metadata": {},
   "outputs": [],
   "source": [
    "df.head()"
   ]
  },
  {
   "cell_type": "markdown",
   "metadata": {},
   "source": [
    "## Examen de la colonne target"
   ]
  },
  {
   "cell_type": "code",
   "execution_count": null,
   "metadata": {},
   "outputs": [],
   "source": [
    "df['SARS-Cov-2 exam result'].value_counts(normalize=True)"
   ]
  },
  {
   "cell_type": "markdown",
   "metadata": {},
   "source": [
    "### Histogramme des variables continues"
   ]
  },
  {
   "cell_type": "code",
   "execution_count": null,
   "metadata": {},
   "outputs": [],
   "source": [
    "for col in df.select_dtypes('float'):\n",
    "    plt.figure()\n",
    "    sns.distplot(df[col])"
   ]
  },
  {
   "cell_type": "code",
   "execution_count": null,
   "metadata": {},
   "outputs": [],
   "source": [
    "sns.distplot(df['Patient age quantile'])\n"
   ]
  },
  {
   "cell_type": "markdown",
   "metadata": {},
   "source": [
    "## Variable age"
   ]
  },
  {
   "cell_type": "code",
   "execution_count": null,
   "metadata": {},
   "outputs": [],
   "source": [
    "df['Patient age quantile'].value_counts()"
   ]
  },
  {
   "cell_type": "markdown",
   "metadata": {},
   "source": [
    "## Variables Qualitatives"
   ]
  },
  {
   "cell_type": "code",
   "execution_count": null,
   "metadata": {},
   "outputs": [],
   "source": [
    "for col in df.select_dtypes('object'):\n",
    "    print(f'{col :-<50} {df[col].unique()}')"
   ]
  },
  {
   "cell_type": "code",
   "execution_count": null,
   "metadata": {},
   "outputs": [],
   "source": [
    "for col in df.select_dtypes('object') :\n",
    "    plt.figure()\n",
    "    df[col].value_counts().plot.pie()"
   ]
  },
  {
   "cell_type": "markdown",
   "metadata": {},
   "source": [
    "## Relation Target / Variables\n",
    "### Création de sous-ensembles positifs et négatifs"
   ]
  },
  {
   "cell_type": "code",
   "execution_count": null,
   "metadata": {},
   "outputs": [],
   "source": [
    "positive_df = df[df['SARS-Cov-2 exam result'] == 'positive']"
   ]
  },
  {
   "cell_type": "code",
   "execution_count": null,
   "metadata": {},
   "outputs": [],
   "source": [
    "negative_df = df[df['SARS-Cov-2 exam result'] == 'negative']"
   ]
  },
  {
   "cell_type": "markdown",
   "metadata": {},
   "source": [
    "### Création des ensembles Blood et viral"
   ]
  },
  {
   "cell_type": "code",
   "execution_count": null,
   "metadata": {},
   "outputs": [],
   "source": [
    "missing_rate = df.isna().sum()/df.shape[0]"
   ]
  },
  {
   "cell_type": "code",
   "execution_count": null,
   "metadata": {},
   "outputs": [],
   "source": [
    "blood_columns = df.columns[(missing_rate < 0.9) & (missing_rate > 0.88)]"
   ]
  },
  {
   "cell_type": "code",
   "execution_count": null,
   "metadata": {},
   "outputs": [],
   "source": [
    "viral_columns = df.columns[(missing_rate < 0.77) & (missing_rate > 0.75)]"
   ]
  },
  {
   "cell_type": "markdown",
   "metadata": {},
   "source": [
    "### Target / Blood"
   ]
  },
  {
   "cell_type": "code",
   "execution_count": null,
   "metadata": {},
   "outputs": [],
   "source": [
    "for col in blood_columns:\n",
    "    plt.figure()\n",
    "    sns.distplot(positive_df[col], label='positive')\n",
    "    sns.distplot(negative_df[col], label='negative')\n",
    "    plt.legend()"
   ]
  },
  {
   "cell_type": "markdown",
   "metadata": {},
   "source": [
    "### Target / age"
   ]
  },
  {
   "cell_type": "markdown",
   "metadata": {},
   "source": [
    "### Target/ Viral"
   ]
  },
  {
   "cell_type": "code",
   "execution_count": null,
   "metadata": {},
   "outputs": [],
   "source": [
    "for col in viral_columns:\n",
    "    plt.figure()\n",
    "    sns.heatmap(pd.crosstab(df['SARS-Cov-2 exam result'], df[col]), annot=True, fmt='d')"
   ]
  },
  {
   "cell_type": "markdown",
   "metadata": {},
   "source": [
    "## Analyse un peu plus avancée\n",
    "\n",
    "### Relation Variables / Variables\n",
    "\n",
    "#### relations Taux sanguin\n"
   ]
  },
  {
   "cell_type": "code",
   "execution_count": null,
   "metadata": {},
   "outputs": [],
   "source": [
    "sns.pairplot(df[blood_columns])"
   ]
  },
  {
   "cell_type": "code",
   "execution_count": null,
   "metadata": {},
   "outputs": [],
   "source": [
    "sns.heatmap(df[blood_columns].corr())"
   ]
  },
  {
   "cell_type": "code",
   "execution_count": null,
   "metadata": {},
   "outputs": [],
   "source": [
    "sns.clustermap(df[blood_columns].corr())"
   ]
  },
  {
   "cell_type": "markdown",
   "metadata": {},
   "source": [
    "#### relation sang / age"
   ]
  },
  {
   "cell_type": "code",
   "execution_count": null,
   "metadata": {},
   "outputs": [],
   "source": [
    "for col in blood_columns :\n",
    "    plt.figure()\n",
    "    sns.lmplot(x='Patient age quantile', y=col, hue='SARS-Cov-2 exam result', data=df)"
   ]
  },
  {
   "cell_type": "code",
   "execution_count": null,
   "metadata": {},
   "outputs": [],
   "source": [
    "df.corr()['Patient age quantile'].sort_values(ascending=True)"
   ]
  },
  {
   "cell_type": "markdown",
   "metadata": {},
   "source": [
    "relation viral / sanguin"
   ]
  },
  {
   "cell_type": "markdown",
   "metadata": {},
   "source": [
    "#### création d'une nouvelle variable \"est malade\""
   ]
  },
  {
   "cell_type": "code",
   "execution_count": null,
   "metadata": {},
   "outputs": [],
   "source": [
    "df['est_malade'] = np.sum(df[viral_columns[:-2]] == 'detected', axis=1) >=1"
   ]
  },
  {
   "cell_type": "code",
   "execution_count": null,
   "metadata": {},
   "outputs": [],
   "source": [
    "malade_df = df[df['est_malade'] == True]\n",
    "non_malade_df = df[df['est_malade'] == False]"
   ]
  },
  {
   "cell_type": "code",
   "execution_count": null,
   "metadata": {},
   "outputs": [],
   "source": [
    "for col in blood_columns:\n",
    "    plt.figure()\n",
    "    sns.distplot(malade_df[col], label=\"est malade\")\n",
    "    sns.distplot(non_malade_df[col], label=\"non malade\")\n",
    "    plt.legend()\n",
    "    plt.show()"
   ]
  },
  {
   "cell_type": "code",
   "execution_count": null,
   "metadata": {},
   "outputs": [],
   "source": [
    "def hospitalisation(df):\n",
    "    if df['Patient addmited to regular ward (1=yes, 0=no)'] == 1:\n",
    "        return 'surveillance'\n",
    "    elif df['Patient addmited to semi-intensive unit (1=yes, 0=no)'] == 1:\n",
    "        return 'soins semi-intensives'\n",
    "    elif df['Patient addmited to intensive care unit (1=yes, 0=no)'] == 1:\n",
    "        return 'soins intensifs'\n",
    "    else:\n",
    "        return 'inconnu'"
   ]
  },
  {
   "cell_type": "code",
   "execution_count": null,
   "metadata": {},
   "outputs": [],
   "source": [
    "df['statut'] = df.apply(hospitalisation, axis=1)"
   ]
  },
  {
   "cell_type": "markdown",
   "metadata": {},
   "source": [
    "### Relation hospitilisation / blood"
   ]
  },
  {
   "cell_type": "code",
   "execution_count": null,
   "metadata": {},
   "outputs": [],
   "source": [
    "for col in blood_columns:\n",
    "    plt.figure()\n",
    "    for cat in df['statut'].unique():\n",
    "        sns.distplot(df[df['statut']==cat][col], label=cat)\n",
    "    plt.legend()"
   ]
  }
 ],
 "metadata": {
  "kernelspec": {
   "display_name": "Python 3.10.5 64-bit (windows store)",
   "language": "python",
   "name": "python3"
  },
  "language_info": {
   "codemirror_mode": {
    "name": "ipython",
    "version": 3
   },
   "file_extension": ".py",
   "mimetype": "text/x-python",
   "name": "python",
   "nbconvert_exporter": "python",
   "pygments_lexer": "ipython3",
   "version": "3.10.5"
  },
  "orig_nbformat": 4,
  "vscode": {
   "interpreter": {
    "hash": "12bacb19619b0d7f9afdf185f611b604bd918747e38ed48a19e12a1e72143883"
   }
  }
 },
 "nbformat": 4,
 "nbformat_minor": 2
}
